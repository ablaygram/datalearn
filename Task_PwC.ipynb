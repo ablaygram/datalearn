{
  "nbformat": 4,
  "nbformat_minor": 0,
  "metadata": {
    "colab": {
      "provenance": [],
      "collapsed_sections": []
    },
    "kernelspec": {
      "name": "python3",
      "display_name": "Python 3"
    },
    "language_info": {
      "name": "python"
    },
    "accelerator": "TPU",
    "gpuClass": "standard"
  },
  "cells": [
    {
      "cell_type": "code",
      "execution_count": 1,
      "metadata": {
        "id": "LWl1zsdFBdfn"
      },
      "outputs": [],
      "source": [
        "import pandas as pd\n",
        "import numpy as np\n",
        "\n",
        "import sklearn\n",
        "from sklearn.linear_model import LinearRegression\n",
        "from sklearn.model_selection import train_test_split\n",
        "from sklearn.metrics import accuracy_score\n"
      ]
    },
    {
      "cell_type": "markdown",
      "source": [
        "Так как модель работы сайта и процесс конвертации представляют досточно прямолинейную модель без большого количество взаимозависимых и влияющих друг на друга переменных, для построения модели выбрал линейную регрессию. Однако, её применения осложнялось большим количеством категорийных данных. Для решения этой проблемы использовал one-hot encoding.\n",
        "   "
      ],
      "metadata": {
        "id": "ySoBLb904yJs"
      }
    },
    {
      "cell_type": "code",
      "source": [
        "pd.options.display.max_rows = 100\n",
        "pd.options.display.max_columns = 100"
      ],
      "metadata": {
        "id": "gJkafCnLEazo"
      },
      "execution_count": 2,
      "outputs": []
    },
    {
      "cell_type": "code",
      "source": [
        "!mkdir train"
      ],
      "metadata": {
        "colab": {
          "base_uri": "https://localhost:8080/"
        },
        "id": "e69pNbFWk3zn",
        "outputId": "79f5da30-4ff9-4f0c-a946-3ed6ed46cc85"
      },
      "execution_count": 4,
      "outputs": [
        {
          "output_type": "stream",
          "name": "stdout",
          "text": [
            "mkdir: cannot create directory ‘train’: File exists\n"
          ]
        }
      ]
    },
    {
      "cell_type": "code",
      "source": [
        "!mkdir test"
      ],
      "metadata": {
        "id": "SbhV00pFk_93"
      },
      "execution_count": 5,
      "outputs": []
    },
    {
      "cell_type": "code",
      "source": [
        "!wget -O /content/train/train.csv \"https://storage.googleapis.com/9e97i3wgzessnidlvx75t/pwc_task_demo_converted_users.csv\""
      ],
      "metadata": {
        "colab": {
          "base_uri": "https://localhost:8080/"
        },
        "id": "ND00812FBrDD",
        "outputId": "b0309194-6e95-4534-b9ea-2206d2c46aef"
      },
      "execution_count": 6,
      "outputs": [
        {
          "output_type": "stream",
          "name": "stdout",
          "text": [
            "--2022-09-04 14:08:50--  https://storage.googleapis.com/9e97i3wgzessnidlvx75t/pwc_task_demo_converted_users.csv\n",
            "Resolving storage.googleapis.com (storage.googleapis.com)... 172.217.214.128, 172.217.212.128, 108.177.111.128, ...\n",
            "Connecting to storage.googleapis.com (storage.googleapis.com)|172.217.214.128|:443... connected.\n",
            "HTTP request sent, awaiting response... 200 OK\n",
            "Length: 219241 (214K) [application/octet-stream]\n",
            "Saving to: ‘/content/train/train.csv’\n",
            "\n",
            "\r/content/train/trai   0%[                    ]       0  --.-KB/s               \r/content/train/trai 100%[===================>] 214.10K  --.-KB/s    in 0.002s  \n",
            "\n",
            "2022-09-04 14:08:50 (92.6 MB/s) - ‘/content/train/train.csv’ saved [219241/219241]\n",
            "\n"
          ]
        }
      ]
    },
    {
      "cell_type": "code",
      "source": [
        "!wget -O /content/test/test_0.csv \"https://storage.googleapis.com/9e97i3wgzessnidlvx75t/pwc_task_demo_dataset_000000000000.csv\"\n",
        "!wget -O /content/test/test_1.csv \"https://storage.googleapis.com/9e97i3wgzessnidlvx75t/pwc_task_demo_dataset_000000000001.csv\"\n",
        "!wget -O /content/test/test_2.csv \"https://storage.googleapis.com/9e97i3wgzessnidlvx75t/pwc_task_demo_dataset_000000000002.csv\"\n",
        "!wget -O /content/test/test_3.csv \"https://storage.googleapis.com/9e97i3wgzessnidlvx75t/pwc_task_demo_dataset_000000000003.csv\"\n",
        "!wget -O /content/test/test_4.csv \"https://storage.googleapis.com/9e97i3wgzessnidlvx75t/pwc_task_demo_dataset_000000000004.csv\""
      ],
      "metadata": {
        "colab": {
          "base_uri": "https://localhost:8080/"
        },
        "id": "aruXgzu8lFkZ",
        "outputId": "121d7265-044b-461b-e359-13e9a3a28d49"
      },
      "execution_count": 7,
      "outputs": [
        {
          "output_type": "stream",
          "name": "stdout",
          "text": [
            "--2022-09-04 14:08:56--  https://storage.googleapis.com/9e97i3wgzessnidlvx75t/pwc_task_demo_dataset_000000000000.csv\n",
            "Resolving storage.googleapis.com (storage.googleapis.com)... 172.217.214.128, 172.217.212.128, 108.177.111.128, ...\n",
            "Connecting to storage.googleapis.com (storage.googleapis.com)|172.217.214.128|:443... connected.\n",
            "HTTP request sent, awaiting response... 200 OK\n",
            "Length: 208104349 (198M) [application/octet-stream]\n",
            "Saving to: ‘/content/test/test_0.csv’\n",
            "\n",
            "/content/test/test_ 100%[===================>] 198.46M   188MB/s    in 1.1s    \n",
            "\n",
            "2022-09-04 14:08:57 (188 MB/s) - ‘/content/test/test_0.csv’ saved [208104349/208104349]\n",
            "\n",
            "--2022-09-04 14:08:57--  https://storage.googleapis.com/9e97i3wgzessnidlvx75t/pwc_task_demo_dataset_000000000001.csv\n",
            "Resolving storage.googleapis.com (storage.googleapis.com)... 172.217.214.128, 172.217.212.128, 108.177.111.128, ...\n",
            "Connecting to storage.googleapis.com (storage.googleapis.com)|172.217.214.128|:443... connected.\n",
            "HTTP request sent, awaiting response... 200 OK\n",
            "Length: 207905173 (198M) [application/octet-stream]\n",
            "Saving to: ‘/content/test/test_1.csv’\n",
            "\n",
            "/content/test/test_ 100%[===================>] 198.27M   166MB/s    in 1.2s    \n",
            "\n",
            "2022-09-04 14:08:59 (166 MB/s) - ‘/content/test/test_1.csv’ saved [207905173/207905173]\n",
            "\n",
            "--2022-09-04 14:08:59--  https://storage.googleapis.com/9e97i3wgzessnidlvx75t/pwc_task_demo_dataset_000000000002.csv\n",
            "Resolving storage.googleapis.com (storage.googleapis.com)... 172.217.214.128, 172.217.212.128, 108.177.111.128, ...\n",
            "Connecting to storage.googleapis.com (storage.googleapis.com)|172.217.214.128|:443... connected.\n",
            "HTTP request sent, awaiting response... 200 OK\n",
            "Length: 208324351 (199M) [application/octet-stream]\n",
            "Saving to: ‘/content/test/test_2.csv’\n",
            "\n",
            "/content/test/test_ 100%[===================>] 198.67M   154MB/s    in 1.3s    \n",
            "\n",
            "2022-09-04 14:09:00 (154 MB/s) - ‘/content/test/test_2.csv’ saved [208324351/208324351]\n",
            "\n",
            "--2022-09-04 14:09:00--  https://storage.googleapis.com/9e97i3wgzessnidlvx75t/pwc_task_demo_dataset_000000000003.csv\n",
            "Resolving storage.googleapis.com (storage.googleapis.com)... 172.217.214.128, 172.217.212.128, 108.177.111.128, ...\n",
            "Connecting to storage.googleapis.com (storage.googleapis.com)|172.217.214.128|:443... connected.\n",
            "HTTP request sent, awaiting response... 200 OK\n",
            "Length: 208139691 (198M) [application/octet-stream]\n",
            "Saving to: ‘/content/test/test_3.csv’\n",
            "\n",
            "/content/test/test_ 100%[===================>] 198.50M   138MB/s    in 1.4s    \n",
            "\n",
            "2022-09-04 14:09:02 (138 MB/s) - ‘/content/test/test_3.csv’ saved [208139691/208139691]\n",
            "\n",
            "--2022-09-04 14:09:02--  https://storage.googleapis.com/9e97i3wgzessnidlvx75t/pwc_task_demo_dataset_000000000004.csv\n",
            "Resolving storage.googleapis.com (storage.googleapis.com)... 172.217.214.128, 172.217.212.128, 108.177.111.128, ...\n",
            "Connecting to storage.googleapis.com (storage.googleapis.com)|172.217.214.128|:443... connected.\n",
            "HTTP request sent, awaiting response... 200 OK\n",
            "Length: 208459643 (199M) [application/octet-stream]\n",
            "Saving to: ‘/content/test/test_4.csv’\n",
            "\n",
            "/content/test/test_ 100%[===================>] 198.80M   184MB/s    in 1.1s    \n",
            "\n",
            "2022-09-04 14:09:03 (184 MB/s) - ‘/content/test/test_4.csv’ saved [208459643/208459643]\n",
            "\n"
          ]
        }
      ]
    },
    {
      "cell_type": "code",
      "source": [
        "df_test = pd.read_csv(\"./test/test_0.csv\")"
      ],
      "metadata": {
        "colab": {
          "base_uri": "https://localhost:8080/"
        },
        "id": "qUm0TpQ0ECi9",
        "outputId": "b9ee6894-afa6-428b-8d15-272b51fc5944"
      },
      "execution_count": 8,
      "outputs": [
        {
          "output_type": "stream",
          "name": "stderr",
          "text": [
            "/usr/local/lib/python3.7/dist-packages/IPython/core/interactiveshell.py:3326: DtypeWarning: Columns (0) have mixed types.Specify dtype option on import or set low_memory=False.\n",
            "  exec(code_obj, self.user_global_ns, self.user_ns)\n"
          ]
        }
      ]
    },
    {
      "cell_type": "code",
      "source": [
        "for i in range(1, 2):\n",
        "  df_test = pd.concat([df_test, pd.read_csv(f'./test/test_{i}.csv')])"
      ],
      "metadata": {
        "id": "fTcBgDQ7EpiS"
      },
      "execution_count": 9,
      "outputs": []
    },
    {
      "cell_type": "markdown",
      "source": [
        "Изначально планировал соездинить все части дата-сета, однако мощности ноутбука не хватало для вычислений, в связи с этим соединил только 2 части для тестирования."
      ],
      "metadata": {
        "id": "SseZZVmU4Gzj"
      }
    },
    {
      "cell_type": "code",
      "source": [
        "len(df_test)"
      ],
      "metadata": {
        "colab": {
          "base_uri": "https://localhost:8080/"
        },
        "id": "fhuxMMFtE-bR",
        "outputId": "8382faa7-bc5d-4e80-bca7-047824afd3c7"
      },
      "execution_count": 10,
      "outputs": [
        {
          "output_type": "execute_result",
          "data": {
            "text/plain": [
              "1660006"
            ]
          },
          "metadata": {},
          "execution_count": 10
        }
      ]
    },
    {
      "cell_type": "code",
      "source": [
        "df_train = pd.read_csv('./train/train.csv')"
      ],
      "metadata": {
        "id": "yP_bWm7tFE2_"
      },
      "execution_count": 11,
      "outputs": []
    },
    {
      "cell_type": "code",
      "source": [
        "df_merged = pd.merge(df_test, right=df_train, left_on='fullVisitorId', right_on='fullvisitorId', how='left').drop('fullvisitorId', axis=1)"
      ],
      "metadata": {
        "id": "XYQqzG7uHoX_"
      },
      "execution_count": 12,
      "outputs": []
    },
    {
      "cell_type": "code",
      "source": [
        "del df_test\n",
        "del df_train"
      ],
      "metadata": {
        "id": "CUb8z8hGtAVg"
      },
      "execution_count": 13,
      "outputs": []
    },
    {
      "cell_type": "code",
      "source": [
        "df_merged['converted'] = df_merged['converted'].fillna(0)"
      ],
      "metadata": {
        "id": "5vHcylIcH7tJ"
      },
      "execution_count": 14,
      "outputs": []
    },
    {
      "cell_type": "code",
      "source": [
        "df_merged['date'] = pd.to_datetime(df_merged['date'], format='%Y-%m-%d')"
      ],
      "metadata": {
        "id": "Ue0xWXAaMBhY"
      },
      "execution_count": 15,
      "outputs": []
    },
    {
      "cell_type": "code",
      "source": [
        "df_merged['referralPath'] = df_merged['referralPath'].str.split('/', 2).str[1]"
      ],
      "metadata": {
        "id": "PNgJVHveYgED"
      },
      "execution_count": 16,
      "outputs": []
    },
    {
      "cell_type": "code",
      "source": [
        "df_merged['pagePath'] = df_merged['pagePath'].str.split('/', 2).str[1].value_counts()"
      ],
      "metadata": {
        "id": "qit1VYHccCiA"
      },
      "execution_count": 17,
      "outputs": []
    },
    {
      "cell_type": "markdown",
      "source": [
        "Также для оптимизации модели были соединены некоторые значения в столбцах referalPath, pagePath. Например, все подвиды источника \"youtube\" сокращались для одного, так как one hot encoding создается дополнительные столбы для уникальных значений.\n"
      ],
      "metadata": {
        "id": "A6ji0uQt58hP"
      }
    },
    {
      "cell_type": "code",
      "source": [
        "X = df_merged.drop(['fullVisitorId', 'sessionId', 'date', 'city', 'eventLabel', 'converted'], axis=1)\n",
        "Y = df_merged['converted']"
      ],
      "metadata": {
        "id": "v38cm0nbIYYF"
      },
      "execution_count": 10,
      "outputs": []
    },
    {
      "cell_type": "markdown",
      "source": [
        "Выше указанные столбцы также были отброшены из модели ввиду большого количества уникальных значений с допущением, что их потеря не сильно определяет поведение модели. \n"
      ],
      "metadata": {
        "id": "UxZt-m_U6hkk"
      }
    },
    {
      "cell_type": "code",
      "source": [
        "test_size = 0.25"
      ],
      "metadata": {
        "id": "sb0iXAA3Q0Wi"
      },
      "execution_count": 19,
      "outputs": []
    },
    {
      "cell_type": "code",
      "source": [
        "df_merged[[\"referralPath\", \"campaign\", \"source\", \"medium\", \"browser\", \"operatingSystem\", \"deviceCategory\", \"country\", \"region\", \"eventCategory\", \"eventAction\", \"eventLabel\", \"channelGrouping\", \"pagePath\", \"type\"]].apply(pd.Series.nunique)"
      ],
      "metadata": {
        "colab": {
          "base_uri": "https://localhost:8080/"
        },
        "id": "28miMkkjXeVm",
        "outputId": "cfa39304-3179-4791-f5e6-7c1d052346f3"
      },
      "execution_count": 23,
      "outputs": [
        {
          "output_type": "execute_result",
          "data": {
            "text/plain": [
              "referralPath       299\n",
              "campaign             8\n",
              "source             245\n",
              "medium               7\n",
              "browser             45\n",
              "operatingSystem     19\n",
              "deviceCategory       3\n",
              "country            213\n",
              "region             376\n",
              "eventCategory        2\n",
              "eventAction          6\n",
              "eventLabel         488\n",
              "channelGrouping      8\n",
              "pagePath             0\n",
              "type                 2\n",
              "dtype: int64"
            ]
          },
          "metadata": {},
          "execution_count": 23
        }
      ]
    },
    {
      "cell_type": "code",
      "source": [
        "df = df_merged.copy()\n",
        "del df_merged"
      ],
      "metadata": {
        "id": "6wTwzx4ipRxH"
      },
      "execution_count": 24,
      "outputs": []
    },
    {
      "cell_type": "code",
      "source": [
        "df.columns"
      ],
      "metadata": {
        "colab": {
          "base_uri": "https://localhost:8080/"
        },
        "id": "qK2FTZ8pooUM",
        "outputId": "a5caf38f-00a8-4679-85cb-e2d15e1068af"
      },
      "execution_count": 25,
      "outputs": [
        {
          "output_type": "execute_result",
          "data": {
            "text/plain": [
              "Index(['fullVisitorId', 'sessionId', 'date', 'visits', 'hits', 'pageviews',\n",
              "       'timeOnSite', 'bounces', 'newVisits', 'screenviews',\n",
              "       'uniqueScreenviews', 'timeOnScreen', 'referralPath', 'campaign',\n",
              "       'source', 'medium', 'browser', 'operatingSystem', 'isMobile',\n",
              "       'deviceCategory', 'country', 'region', 'city', 'hitNumber',\n",
              "       'eventCategory', 'eventAction', 'eventLabel', 'channelGrouping',\n",
              "       'action_type', 'pagePath', 'type', 'converted'],\n",
              "      dtype='object')"
            ]
          },
          "metadata": {},
          "execution_count": 25
        }
      ]
    },
    {
      "cell_type": "code",
      "source": [
        "ONE_HOT_COLS = [\"campaign\", \"medium\", \"browser\", \"operatingSystem\", \"deviceCategory\", \"eventCategory\", \"eventAction\", \"channelGrouping\", \"type\"]\n",
        "print(\"Starting DF shape: %d, %d\" % df.shape)\n",
        "\n",
        "\n",
        "for col in ONE_HOT_COLS:\n",
        "    s = df[col].unique()\n",
        "\n",
        "    # Create a One Hot Dataframe with 1 row for each unique value\n",
        "    one_hot_df = pd.get_dummies(s, prefix='%s_' % col)\n",
        "    one_hot_df[col] = s\n",
        "\n",
        "    print(\"Adding One Hot values for %s (the column has %d unique values)\" % (col, len(s)))\n",
        "    pre_len = len(df)\n",
        "\n",
        "    # Merge the one hot columns\n",
        "    df = df.merge(one_hot_df, on=[col], how=\"left\")\n",
        "    assert len(df) == pre_len\n",
        "    print(df.shape)"
      ],
      "metadata": {
        "colab": {
          "base_uri": "https://localhost:8080/"
        },
        "id": "9-ZE6cJmWVBP",
        "outputId": "a3c787da-2708-45c6-adf1-ec823603a418"
      },
      "execution_count": 26,
      "outputs": [
        {
          "output_type": "stream",
          "name": "stdout",
          "text": [
            "Starting DF shape: 1660006, 32\n",
            "Adding One Hot values for campaign (the column has 8 unique values)\n",
            "(1660006, 40)\n",
            "Adding One Hot values for medium (the column has 7 unique values)\n",
            "(1660006, 47)\n",
            "Adding One Hot values for browser (the column has 45 unique values)\n",
            "(1660006, 92)\n",
            "Adding One Hot values for operatingSystem (the column has 19 unique values)\n",
            "(1660006, 111)\n",
            "Adding One Hot values for deviceCategory (the column has 3 unique values)\n",
            "(1660006, 114)\n",
            "Adding One Hot values for eventCategory (the column has 3 unique values)\n",
            "(1660006, 116)\n",
            "Adding One Hot values for eventAction (the column has 7 unique values)\n",
            "(1660006, 122)\n",
            "Adding One Hot values for channelGrouping (the column has 8 unique values)\n",
            "(1660006, 130)\n",
            "Adding One Hot values for type (the column has 2 unique values)\n",
            "(1660006, 132)\n"
          ]
        }
      ]
    },
    {
      "cell_type": "code",
      "source": [
        "X = df.drop(['fullVisitorId', 'sessionId', 'date', 'source', 'referralPath', 'country', 'region', 'city', 'eventLabel', 'pagePath', 'converted'], axis=1)\n",
        "X = X.drop(ONE_HOT_COLS, axis=1)\n",
        "Y = df['converted']\n",
        "\n",
        "del df"
      ],
      "metadata": {
        "id": "Iox6tJNsof2y"
      },
      "execution_count": 27,
      "outputs": []
    },
    {
      "cell_type": "code",
      "source": [
        "test_size = 0.25"
      ],
      "metadata": {
        "id": "x-LimUriof23"
      },
      "execution_count": 28,
      "outputs": []
    },
    {
      "cell_type": "markdown",
      "source": [
        "В качестве выборки выбрал 1/4 генеральной совокупности"
      ],
      "metadata": {
        "id": "Q4kLTIoB7O61"
      }
    },
    {
      "cell_type": "code",
      "source": [
        "X_train, X_test, y_train, y_test = train_test_split(X, Y, test_size=test_size)"
      ],
      "metadata": {
        "id": "jTacM1pBof25"
      },
      "execution_count": 29,
      "outputs": []
    },
    {
      "cell_type": "code",
      "source": [
        "len(X_train.columns)"
      ],
      "metadata": {
        "colab": {
          "base_uri": "https://localhost:8080/"
        },
        "id": "_kWYPshjqQRz",
        "outputId": "e3758116-c50f-45b9-f645-b3cf08fc9fab"
      },
      "execution_count": 30,
      "outputs": [
        {
          "output_type": "execute_result",
          "data": {
            "text/plain": [
              "112"
            ]
          },
          "metadata": {},
          "execution_count": 30
        }
      ]
    },
    {
      "cell_type": "code",
      "source": [
        "from sklearn.ensemble import RandomForestClassifier"
      ],
      "metadata": {
        "id": "Va0j_jqKpAZA"
      },
      "execution_count": 32,
      "outputs": []
    },
    {
      "cell_type": "markdown",
      "source": [
        "В качестве основного алгоритма выбрал множество решающих деревьев ввиду его универсальности. Так эту задачу можно отнести как к классифицкации, так и к кластеризации, то random forest здесь будет наиболее полезен."
      ],
      "metadata": {
        "id": "PbJ48BQf7n2E"
      }
    },
    {
      "cell_type": "code",
      "source": [
        "rf_model = RandomForestClassifier(n_estimators=20, max_features=\"auto\")"
      ],
      "metadata": {
        "id": "RH3wSMKTslLj"
      },
      "execution_count": 33,
      "outputs": []
    },
    {
      "cell_type": "code",
      "source": [
        "X_train = X_train.fillna(0)\n",
        "y_train = y_train.fillna(0)"
      ],
      "metadata": {
        "id": "5VY0gubnvVW7"
      },
      "execution_count": 34,
      "outputs": []
    },
    {
      "cell_type": "code",
      "source": [
        "rf_model.fit(X_train, y_train)"
      ],
      "metadata": {
        "colab": {
          "base_uri": "https://localhost:8080/"
        },
        "id": "XqwLPQM_tKzg",
        "outputId": "42d699f3-fba1-44af-a669-1757bcfe3a8c"
      },
      "execution_count": 35,
      "outputs": [
        {
          "output_type": "execute_result",
          "data": {
            "text/plain": [
              "RandomForestClassifier(n_estimators=20)"
            ]
          },
          "metadata": {},
          "execution_count": 35
        }
      ]
    },
    {
      "cell_type": "code",
      "source": [
        "X_test = X_test.fillna(0)"
      ],
      "metadata": {
        "id": "C1tB_ekfvw4L"
      },
      "execution_count": 36,
      "outputs": []
    },
    {
      "cell_type": "code",
      "source": [
        "predictions = rf_model.predict(X_test)"
      ],
      "metadata": {
        "id": "17q1rFSSux5X"
      },
      "execution_count": 37,
      "outputs": []
    },
    {
      "cell_type": "code",
      "source": [
        "accuracy_score(y_test, predictions)"
      ],
      "metadata": {
        "colab": {
          "base_uri": "https://localhost:8080/"
        },
        "id": "wZAoT-GEzAJF",
        "outputId": "78fa1e9f-32ad-4ded-bf12-d6599df51f2c"
      },
      "execution_count": 38,
      "outputs": [
        {
          "output_type": "execute_result",
          "data": {
            "text/plain": [
              "0.9320918935330432"
            ]
          },
          "metadata": {},
          "execution_count": 38
        }
      ]
    },
    {
      "cell_type": "code",
      "source": [],
      "metadata": {
        "id": "NeShh_7-8d1u"
      },
      "execution_count": null,
      "outputs": []
    },
    {
      "cell_type": "markdown",
      "source": [
        "Точность модели составила 93.2%, для большего понимания предсказания ниже вывел основные параметры влияющие на конвертацию пользователей.\n"
      ],
      "metadata": {
        "id": "CnDjNuR-8LX2"
      }
    },
    {
      "cell_type": "code",
      "source": [
        "y_test.iloc[0]"
      ],
      "metadata": {
        "colab": {
          "base_uri": "https://localhost:8080/"
        },
        "id": "w-_s0tkqzhbv",
        "outputId": "114d3138-84fe-4aaf-b2fb-64500a747178"
      },
      "execution_count": 39,
      "outputs": [
        {
          "output_type": "execute_result",
          "data": {
            "text/plain": [
              "0.0"
            ]
          },
          "metadata": {},
          "execution_count": 39
        }
      ]
    },
    {
      "cell_type": "code",
      "source": [
        "for i in range(20):\n",
        "  print(predictions[i], y_test.iloc[i])"
      ],
      "metadata": {
        "colab": {
          "base_uri": "https://localhost:8080/"
        },
        "id": "uQ8F55buzWzQ",
        "outputId": "1f9e8602-55e2-4c70-cbec-ab8559e86d34"
      },
      "execution_count": 40,
      "outputs": [
        {
          "output_type": "stream",
          "name": "stdout",
          "text": [
            "0.0 0.0\n",
            "0.0 0.0\n",
            "0.0 0.0\n",
            "1.0 1.0\n",
            "0.0 0.0\n",
            "0.0 0.0\n",
            "0.0 0.0\n",
            "0.0 0.0\n",
            "1.0 1.0\n",
            "1.0 1.0\n",
            "0.0 0.0\n",
            "0.0 0.0\n",
            "0.0 0.0\n",
            "0.0 0.0\n",
            "0.0 0.0\n",
            "0.0 0.0\n",
            "0.0 0.0\n",
            "0.0 0.0\n",
            "1.0 1.0\n",
            "1.0 1.0\n"
          ]
        }
      ]
    },
    {
      "cell_type": "markdown",
      "source": [],
      "metadata": {
        "id": "JUUFMij99nh6"
      }
    },
    {
      "cell_type": "code",
      "source": [
        "importances = rf_model.feature_importances_\n",
        "columns = X_test.columns"
      ],
      "metadata": {
        "id": "712Y5rrG09dW"
      },
      "execution_count": 41,
      "outputs": []
    },
    {
      "cell_type": "markdown",
      "source": [
        "Из приведенных ниже данных видно, что наибольший коэффициент составляет для следующих показателей: время (в секундах), проведенное за сессю (30.3%) количество просмотренных страниц за сессию (17,2%), количество кликов за сессию (17,8%) и другие. Если сделать некоторые допущения и смоделировать некоторый процесс покупки/ознакомления с интернетом-магазином, основываясь на своём опыте, то выведенная модель и её ключевые значения выглядят достаточно реалистично и могут быть применимы на практике."
      ],
      "metadata": {
        "id": "e2U4yV6_8hhe"
      }
    },
    {
      "cell_type": "code",
      "source": [],
      "metadata": {
        "id": "qUGqRBv1-V11"
      },
      "execution_count": null,
      "outputs": []
    },
    {
      "cell_type": "code",
      "source": [
        "for i in range(len(columns)):\n",
        "  print(columns[i], '{0:f}'.format(importances[i]))"
      ],
      "metadata": {
        "colab": {
          "base_uri": "https://localhost:8080/"
        },
        "id": "RVUlK7ts1IxX",
        "outputId": "bf63a274-1167-439b-923c-00307c6d27f4"
      },
      "execution_count": 42,
      "outputs": [
        {
          "output_type": "stream",
          "name": "stdout",
          "text": [
            "visits 0.000000\n",
            "hits 0.178912\n",
            "pageviews 0.172843\n",
            "timeOnSite 0.303609\n",
            "bounces 0.000413\n",
            "newVisits 0.048939\n",
            "screenviews 0.000000\n",
            "uniqueScreenviews 0.000000\n",
            "timeOnScreen 0.000000\n",
            "isMobile 0.004766\n",
            "hitNumber 0.116567\n",
            "action_type 0.050183\n",
            "campaign__(not set) 0.000717\n",
            "campaign__AW - Accessories 0.000486\n",
            "campaign__AW - Apparel 0.000024\n",
            "campaign__AW - Dynamic Search Ads Whole Site 0.000595\n",
            "campaign__AW - Electronics 0.000105\n",
            "campaign__All Products 0.000000\n",
            "campaign__Data Share 0.000000\n",
            "campaign__Data Share Promo 0.000526\n",
            "medium__(none) 0.009396\n",
            "medium__(not set) 0.000031\n",
            "medium__affiliate 0.000452\n",
            "medium__cpc 0.000587\n",
            "medium__cpm 0.000882\n",
            "medium__organic 0.002689\n",
            "medium__referral 0.006424\n",
            "browser__(not set) 0.000000\n",
            "browser__0 0.000000\n",
            "browser__ADM 0.000000\n",
            "browser__Amazon Silk 0.000022\n",
            "browser__Android Browser 0.000001\n",
            "browser__Android Webview 0.000138\n",
            "browser__Apple-iPhone7C2 0.000000\n",
            "browser__BlackBerry 0.000001\n",
            "browser__Chrome 0.005619\n",
            "browser__Coc Coc 0.000028\n",
            "browser__DASH_JR_3G 0.000000\n",
            "browser__DoCoMo 0.000000\n",
            "browser__Edge 0.000687\n",
            "browser__Firefox 0.001960\n",
            "browser__HTC802t_TD 0.000000\n",
            "browser__Internet Explorer 0.000815\n",
            "browser__Iron 0.000000\n",
            "browser__LYF_LS_4002_11 0.000000\n",
            "browser__LYF_LS_4002_12 0.000000\n",
            "browser__Lunascape 0.000000\n",
            "browser__M5 0.000000\n",
            "browser__MRCHROME 0.000000\n",
            "browser__Maxthon 0.000006\n",
            "browser__Mozilla 0.000000\n",
            "browser__Mozilla Compatible Agent 0.000001\n",
            "browser__Nichrome 0.000000\n",
            "browser__Nintendo Browser 0.000001\n",
            "browser__Nokia Browser 0.000001\n",
            "browser__NokiaE52-1 0.000000\n",
            "browser__Opera 0.000182\n",
            "browser__Opera Mini 0.000015\n",
            "browser__Puffin 0.000001\n",
            "browser__Reddit 0.000000\n",
            "browser__Safari 0.002489\n",
            "browser__Safari (in-app) 0.000089\n",
            "browser__SeaMonkey 0.000000\n",
            "browser__Seznam 0.000000\n",
            "browser__ThumbSniper 0.000000\n",
            "browser__UC Browser 0.000017\n",
            "browser__YE 0.000000\n",
            "browser__YaBrowser 0.000051\n",
            "browser__[Use default User-agent string] LIVRENPOCHE 0.000000\n",
            "browser__no-ua 0.000000\n",
            "browser__osee2unifiedRelease 0.000000\n",
            "browser__subjectAgent: NoticiasBoom 0.000000\n",
            "operatingSystem__(not set) 0.000012\n",
            "operatingSystem__Android 0.003263\n",
            "operatingSystem__BlackBerry 0.000000\n",
            "operatingSystem__Chrome OS 0.003191\n",
            "operatingSystem__Firefox OS 0.000000\n",
            "operatingSystem__FreeBSD 0.000000\n",
            "operatingSystem__Linux 0.002432\n",
            "operatingSystem__Macintosh 0.009275\n",
            "operatingSystem__NTT DoCoMo 0.000000\n",
            "operatingSystem__Nintendo Wii 0.000002\n",
            "operatingSystem__Nintendo WiiU 0.000000\n",
            "operatingSystem__Nokia 0.000000\n",
            "operatingSystem__OpenBSD 0.000000\n",
            "operatingSystem__Samsung 0.000000\n",
            "operatingSystem__SunOS 0.000000\n",
            "operatingSystem__Windows 0.006342\n",
            "operatingSystem__Windows Phone 0.000111\n",
            "operatingSystem__Xbox 0.000000\n",
            "operatingSystem__iOS 0.001913\n",
            "deviceCategory__desktop 0.005749\n",
            "deviceCategory__mobile 0.003611\n",
            "deviceCategory__tablet 0.000928\n",
            "eventCategory__Contact Us 0.000124\n",
            "eventCategory__Enhanced Ecommerce 0.000969\n",
            "eventAction__Add to Cart 0.002332\n",
            "eventAction__Onsite Click 0.000113\n",
            "eventAction__Product Click 0.001229\n",
            "eventAction__Promotion Click 0.000572\n",
            "eventAction__Quickview Click 0.001313\n",
            "eventAction__Remove from Cart 0.000544\n",
            "channelGrouping__(Other) 0.000041\n",
            "channelGrouping__Affiliates 0.000361\n",
            "channelGrouping__Direct 0.004111\n",
            "channelGrouping__Display 0.001039\n",
            "channelGrouping__Organic Search 0.011415\n",
            "channelGrouping__Paid Search 0.001779\n",
            "channelGrouping__Referral 0.019949\n",
            "channelGrouping__Social 0.003878\n",
            "type__EVENT 0.000957\n",
            "type__PAGE 0.001173\n"
          ]
        }
      ]
    }
  ]
}